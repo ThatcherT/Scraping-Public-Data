{
 "cells": [
  {
   "cell_type": "code",
   "execution_count": 303,
   "metadata": {},
   "outputs": [],
   "source": [
    "from urllib.request import urlopen as uReq"
   ]
  },
  {
   "cell_type": "code",
   "execution_count": 304,
   "metadata": {},
   "outputs": [],
   "source": [
    "from bs4 import BeautifulSoup as soup"
   ]
  },
  {
   "cell_type": "code",
   "execution_count": 305,
   "metadata": {},
   "outputs": [],
   "source": [
    "my_url = 'https://www.bls.gov/eag/eag.tx_midland_msa.htm'"
   ]
  },
  {
   "cell_type": "code",
   "execution_count": 306,
   "metadata": {},
   "outputs": [],
   "source": [
    "uClient = uReq(my_url)\n",
    "page_html = uClient.read()\n",
    "uClient.close()"
   ]
  },
  {
   "cell_type": "code",
   "execution_count": 307,
   "metadata": {},
   "outputs": [],
   "source": [
    "page_soup = soup(page_html, 'html.parser')"
   ]
  },
  {
   "cell_type": "code",
   "execution_count": 308,
   "metadata": {},
   "outputs": [],
   "source": [
    "data_list = page_soup.find_all('span', class_ = 'datavalue') #finds all the numbers on the page\n",
    "data_list = data_list[20:] #skip the first worthless values\n",
    "# data_list"
   ]
  },
  {
   "cell_type": "code",
   "execution_count": 309,
   "metadata": {},
   "outputs": [
    {
     "data": {
      "text/plain": [
       "'(p)-12.2'"
      ]
     },
     "execution_count": 309,
     "metadata": {},
     "output_type": "execute_result"
    }
   ],
   "source": [
    "page_soup.find_all('span', class_ = 'datavalue')[31].text #when there is a p this marks the end of a line!!!"
   ]
  },
  {
   "cell_type": "code",
   "execution_count": 310,
   "metadata": {},
   "outputs": [],
   "source": [
    "rows = page_soup.find_all('p', class_ = 'sub0') #every row label of table\n",
    "row_text = []\n",
    "for i,val in enumerate(rows):\n",
    "    if '(3)' in rows[i].text:\n",
    "        row_text.append(rows[i].text[:-3]) #remove pesky little 3\n",
    "    else:\n",
    "        row_text.append(rows[i].text)\n",
    "row_text = row_text[2:] # create a list of strings that indicate rows\n",
    "# row_text"
   ]
  },
  {
   "cell_type": "code",
   "execution_count": 311,
   "metadata": {},
   "outputs": [],
   "source": [
    "titles_text = []\n",
    "for i, val in enumerate(titles):\n",
    "    titles_text.append(titles[i].text)\n",
    "titles_text = titles_text[2:] #list of table columns will go in df\n",
    "# titles_text\n"
   ]
  },
  {
   "cell_type": "code",
   "execution_count": 312,
   "metadata": {},
   "outputs": [],
   "source": [
    "# This part is tricky\n",
    "#because half of our dataset is 12month change and therefore useless\n",
    "#i've chose to skip every other row when adding data\n",
    "\n",
    "row_dict = {text: [] for text in row_text} #initialize a dictionary with row titles as keys\n",
    "n=0 # counts every row\n",
    "w=0 #counts every evenly divisble row\n",
    "\n",
    "for i,tag in enumerate(data_list):\n",
    "#     print(n,w,i) #uncomment to see iteratables\n",
    "    \n",
    "    # if n is odd than row is not of interest hence continue allows loop to go to next data value(i)\n",
    "    #however, if it is the end of the row indicated by (p) then we need to iterate w to indicate a new row\n",
    "    if n %2 != 0: \n",
    "        \n",
    "        \n",
    "        \n",
    "        if '(p)' in data_list[i].text:\n",
    "            w+=1\n",
    "            n+=1\n",
    "        continue\n",
    "        \n",
    "    #if n is odd than row is of interest and we check if it is end of a line to figure out if we iterate n or not\n",
    "    \n",
    "    if '(p)' in data_list[i].text:# indicate when you've reached the end of a row!\n",
    "        row_dict[row_text[w]].append(data_list[i].text[3:])# add to dict remove  (p) from text\n",
    "        n+=1\n",
    "    \n",
    "    #else indicates that n is even(row is of interest) and it is not the last value of a row(don't iterate n or w)\n",
    "    else:\n",
    "        values.append(data_list[i].text)\n",
    "        row_dict[row_text[w]].append(data_list[i].text)"
   ]
  },
  {
   "cell_type": "code",
   "execution_count": 315,
   "metadata": {},
   "outputs": [],
   "source": [
    "# row_dict #this is the dictionary, we'll turn it into a df"
   ]
  },
  {
   "cell_type": "code",
   "execution_count": 314,
   "metadata": {},
   "outputs": [
    {
     "data": {
      "text/html": [
       "<div>\n",
       "<style scoped>\n",
       "    .dataframe tbody tr th:only-of-type {\n",
       "        vertical-align: middle;\n",
       "    }\n",
       "\n",
       "    .dataframe tbody tr th {\n",
       "        vertical-align: top;\n",
       "    }\n",
       "\n",
       "    .dataframe thead th {\n",
       "        text-align: right;\n",
       "    }\n",
       "</style>\n",
       "<table border=\"1\" class=\"dataframe\">\n",
       "  <thead>\n",
       "    <tr style=\"text-align: right;\">\n",
       "      <th></th>\n",
       "      <th>Jan 2020</th>\n",
       "      <th>Feb 2020</th>\n",
       "      <th>Mar 2020</th>\n",
       "      <th>Apr 2020</th>\n",
       "      <th>May 2020</th>\n",
       "      <th>June 2020</th>\n",
       "    </tr>\n",
       "  </thead>\n",
       "  <tbody>\n",
       "    <tr>\n",
       "      <th>Total Nonfarm</th>\n",
       "      <td>114.3</td>\n",
       "      <td>114.4</td>\n",
       "      <td>113.6</td>\n",
       "      <td>102.0</td>\n",
       "      <td>100.0</td>\n",
       "      <td>100.8</td>\n",
       "    </tr>\n",
       "    <tr>\n",
       "      <th>Mining, Logging, and Construction</th>\n",
       "      <td>38.8</td>\n",
       "      <td>38.9</td>\n",
       "      <td>38.6</td>\n",
       "      <td>33.3</td>\n",
       "      <td>30.9</td>\n",
       "      <td>30.3</td>\n",
       "    </tr>\n",
       "    <tr>\n",
       "      <th>Manufacturing</th>\n",
       "      <td>4.3</td>\n",
       "      <td>4.2</td>\n",
       "      <td>4.2</td>\n",
       "      <td>3.7</td>\n",
       "      <td>3.8</td>\n",
       "      <td>3.9</td>\n",
       "    </tr>\n",
       "    <tr>\n",
       "      <th>Trade, Transportation, and Utilities</th>\n",
       "      <td>22.7</td>\n",
       "      <td>22.6</td>\n",
       "      <td>22.6</td>\n",
       "      <td>20.7</td>\n",
       "      <td>20.5</td>\n",
       "      <td>20.9</td>\n",
       "    </tr>\n",
       "    <tr>\n",
       "      <th>Information</th>\n",
       "      <td>1.0</td>\n",
       "      <td>1.0</td>\n",
       "      <td>1.0</td>\n",
       "      <td>1.0</td>\n",
       "      <td>0.9</td>\n",
       "      <td>0.9</td>\n",
       "    </tr>\n",
       "    <tr>\n",
       "      <th>Financial Activities</th>\n",
       "      <td>4.8</td>\n",
       "      <td>4.9</td>\n",
       "      <td>4.8</td>\n",
       "      <td>4.7</td>\n",
       "      <td>4.5</td>\n",
       "      <td>4.5</td>\n",
       "    </tr>\n",
       "    <tr>\n",
       "      <th>Professional and Business Services</th>\n",
       "      <td>11.4</td>\n",
       "      <td>11.5</td>\n",
       "      <td>11.2</td>\n",
       "      <td>10.6</td>\n",
       "      <td>10.6</td>\n",
       "      <td>10.7</td>\n",
       "    </tr>\n",
       "    <tr>\n",
       "      <th>Education and Health Services</th>\n",
       "      <td>6.9</td>\n",
       "      <td>6.8</td>\n",
       "      <td>6.7</td>\n",
       "      <td>6.5</td>\n",
       "      <td>6.5</td>\n",
       "      <td>6.6</td>\n",
       "    </tr>\n",
       "    <tr>\n",
       "      <th>Leisure and Hospitality</th>\n",
       "      <td>10.9</td>\n",
       "      <td>10.9</td>\n",
       "      <td>10.9</td>\n",
       "      <td>8.9</td>\n",
       "      <td>9.9</td>\n",
       "      <td>10.7</td>\n",
       "    </tr>\n",
       "    <tr>\n",
       "      <th>Other Services</th>\n",
       "      <td>4.1</td>\n",
       "      <td>4.1</td>\n",
       "      <td>4.1</td>\n",
       "      <td>3.4</td>\n",
       "      <td>3.2</td>\n",
       "      <td>3.3</td>\n",
       "    </tr>\n",
       "    <tr>\n",
       "      <th>Government</th>\n",
       "      <td>9.4</td>\n",
       "      <td>9.5</td>\n",
       "      <td>9.5</td>\n",
       "      <td>9.2</td>\n",
       "      <td>9.2</td>\n",
       "      <td>9.0</td>\n",
       "    </tr>\n",
       "  </tbody>\n",
       "</table>\n",
       "</div>"
      ],
      "text/plain": [
       "                                     Jan 2020 Feb 2020 Mar 2020 Apr 2020  \\\n",
       "Total Nonfarm                           114.3    114.4    113.6    102.0   \n",
       "Mining, Logging, and Construction        38.8     38.9     38.6     33.3   \n",
       "Manufacturing                             4.3      4.2      4.2      3.7   \n",
       "Trade, Transportation, and Utilities     22.7     22.6     22.6     20.7   \n",
       "Information                               1.0      1.0      1.0      1.0   \n",
       "Financial Activities                      4.8      4.9      4.8      4.7   \n",
       "Professional and Business Services       11.4     11.5     11.2     10.6   \n",
       "Education and Health Services             6.9      6.8      6.7      6.5   \n",
       "Leisure and Hospitality                  10.9     10.9     10.9      8.9   \n",
       "Other Services                            4.1      4.1      4.1      3.4   \n",
       "Government                                9.4      9.5      9.5      9.2   \n",
       "\n",
       "                                     May 2020 June 2020  \n",
       "Total Nonfarm                           100.0     100.8  \n",
       "Mining, Logging, and Construction        30.9      30.3  \n",
       "Manufacturing                             3.8       3.9  \n",
       "Trade, Transportation, and Utilities     20.5      20.9  \n",
       "Information                               0.9       0.9  \n",
       "Financial Activities                      4.5       4.5  \n",
       "Professional and Business Services       10.6      10.7  \n",
       "Education and Health Services             6.5       6.6  \n",
       "Leisure and Hospitality                   9.9      10.7  \n",
       "Other Services                            3.2       3.3  \n",
       "Government                                9.2       9.0  "
      ]
     },
     "execution_count": 314,
     "metadata": {},
     "output_type": "execute_result"
    }
   ],
   "source": [
    "import pandas as pd\n",
    "pd.DataFrame.from_dict(row_dict, orient='index',columns = titles_text) #final data frame can now do some analysis\n"
   ]
  }
 ],
 "metadata": {
  "kernelspec": {
   "display_name": "Python 3",
   "language": "python",
   "name": "python3"
  },
  "language_info": {
   "codemirror_mode": {
    "name": "ipython",
    "version": 3
   },
   "file_extension": ".py",
   "mimetype": "text/x-python",
   "name": "python",
   "nbconvert_exporter": "python",
   "pygments_lexer": "ipython3",
   "version": "3.7.1"
  }
 },
 "nbformat": 4,
 "nbformat_minor": 2
}
