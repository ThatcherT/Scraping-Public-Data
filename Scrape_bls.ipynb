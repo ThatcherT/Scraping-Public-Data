{
 "cells": [
  {
   "cell_type": "code",
   "execution_count": 278,
   "metadata": {},
   "outputs": [],
   "source": [
    "from urllib.request import urlopen as uReq"
   ]
  },
  {
   "cell_type": "code",
   "execution_count": 279,
   "metadata": {},
   "outputs": [],
   "source": [
    "from bs4 import BeautifulSoup as soup"
   ]
  },
  {
   "cell_type": "code",
   "execution_count": 280,
   "metadata": {},
   "outputs": [],
   "source": [
    "my_url = 'https://www.bls.gov/eag/eag.tx_collegestation_msa.htm'"
   ]
  },
  {
   "cell_type": "code",
   "execution_count": 281,
   "metadata": {},
   "outputs": [],
   "source": [
    "uClient = uReq(my_url)\n",
    "page_html = uClient.read()\n",
    "uClient.close()"
   ]
  },
  {
   "cell_type": "code",
   "execution_count": 282,
   "metadata": {},
   "outputs": [],
   "source": [
    "page_soup = soup(page_html, 'html.parser')"
   ]
  },
  {
   "cell_type": "code",
   "execution_count": 283,
   "metadata": {},
   "outputs": [],
   "source": [
    "data_list = page_soup.find_all('span', class_ = 'datavalue') #finds all the numbers on the page\n",
    "data_list = data_list[20:] #skip the first worthless values\n",
    "# data_list"
   ]
  },
  {
   "cell_type": "code",
   "execution_count": 285,
   "metadata": {},
   "outputs": [
    {
     "data": {
      "text/plain": [
       "'(p)-0.9'"
      ]
     },
     "execution_count": 285,
     "metadata": {},
     "output_type": "execute_result"
    }
   ],
   "source": [
    "page_soup.find_all('span', class_ = 'datavalue')[31].text #when there is a p this marks the end of a line!!!"
   ]
  },
  {
   "cell_type": "code",
   "execution_count": 297,
   "metadata": {},
   "outputs": [],
   "source": [
    "rows = page_soup.find_all('p', class_ = 'sub0') #every row label of table\n",
    "row_text = []\n",
    "for i,val in enumerate(rows):\n",
    "    if '(3)' in rows[i].text:\n",
    "        row_text.append(rows[i].text[:-3]) #remove pesky little 3\n",
    "    else:\n",
    "        row_text.append(rows[i].text)\n",
    "row_text = row_text[2:] # create a list of strings that indicate rows\n",
    "# row_text"
   ]
  },
  {
   "cell_type": "code",
   "execution_count": 298,
   "metadata": {},
   "outputs": [
    {
     "data": {
      "text/plain": [
       "['Jan 2020', 'Feb 2020', 'Mar 2020', 'Apr 2020', 'May 2020', 'June 2020']"
      ]
     },
     "execution_count": 298,
     "metadata": {},
     "output_type": "execute_result"
    }
   ],
   "source": [
    "titles_text = []\n",
    "for i, val in enumerate(titles):\n",
    "    titles_text.append(titles[i].text)\n",
    "titles_text = titles_text[2:] #list of table columns will go in df\n",
    "# titles_text\n"
   ]
  },
  {
   "cell_type": "code",
   "execution_count": 299,
   "metadata": {},
   "outputs": [],
   "source": [
    "# This part is tricky\n",
    "#because half of our dataset is 12month change and therefore useless\n",
    "#i've chose to skip every other row when adding data\n",
    "\n",
    "row_dict = {text: [] for text in row_text} #initialize a dictionary with row titles as keys\n",
    "n=0 # counts every row\n",
    "w=0 #counts every evenly divisble row\n",
    "\n",
    "for i,tag in enumerate(data_list):\n",
    "#     print(n,w,i) #uncomment to see iteratables\n",
    "    \n",
    "    # if n is odd than row is not of interest hence continue allows loop to go to next data value(i)\n",
    "    #however, if it is the end of the row indicated by (p) then we need to iterate w to indicate a new row\n",
    "    if n %2 != 0: \n",
    "        \n",
    "        \n",
    "        \n",
    "        if '(p)' in data_list[i].text:\n",
    "            w+=1\n",
    "            n+=1\n",
    "        continue\n",
    "        \n",
    "    #if n is odd than row is of interest and we check if it is end of a line to figure out if we iterate n or not\n",
    "    \n",
    "    if '(p)' in data_list[i].text:# indicate when you've reached the end of a row!\n",
    "        row_dict[row_text[w]].append(data_list[i].text[3:])# add to dict remove  (p) from text\n",
    "        n+=1\n",
    "    \n",
    "    #else indicates that n is even(row is of interest) and it is not the last value of a row(don't iterate n or w)\n",
    "    else:\n",
    "        values.append(data_list[i].text)\n",
    "        row_dict[row_text[w]].append(data_list[i].text)"
   ]
  },
  {
   "cell_type": "code",
   "execution_count": 300,
   "metadata": {},
   "outputs": [
    {
     "data": {
      "text/plain": [
       "{'Total Nonfarm': ['123.4', '127.4', '127.0', '117.4', '118.6', '117.6'],\n",
       " 'Mining, Logging, and Construction': ['7.7',\n",
       "  '7.7',\n",
       "  '7.7',\n",
       "  '7.9',\n",
       "  '8.3',\n",
       "  '8.0'],\n",
       " 'Manufacturing': ['6.3', '6.3', '6.3', '5.9', '6.2', '6.3'],\n",
       " 'Trade, Transportation, and Utilities': ['17.0',\n",
       "  '17.2',\n",
       "  '16.9',\n",
       "  '16.1',\n",
       "  '16.0',\n",
       "  '16.4'],\n",
       " 'Information': ['1.4', '1.4', '1.4', '1.3', '1.3', '1.4'],\n",
       " 'Financial Activities': ['3.9', '3.9', '3.9', '3.8', '4.1', '4.1'],\n",
       " 'Professional and Business Services': ['9.9',\n",
       "  '10.1',\n",
       "  '10.1',\n",
       "  '9.1',\n",
       "  '9.2',\n",
       "  '9.6'],\n",
       " 'Education and Health Services': ['12.7',\n",
       "  '13.0',\n",
       "  '13.2',\n",
       "  '11.8',\n",
       "  '12.2',\n",
       "  '12.6'],\n",
       " 'Leisure and Hospitality': ['17.3', '18.1', '17.1', '14.5', '15.1', '15.4'],\n",
       " 'Other Services': ['3.4', '3.4', '3.3', '2.7', '2.9', '3.1'],\n",
       " 'Government': ['43.8', '46.3', '47.1', '44.3', '43.3', '40.7']}"
      ]
     },
     "execution_count": 300,
     "metadata": {},
     "output_type": "execute_result"
    }
   ],
   "source": [
    "row_dict #this is the dictionary, we'll turn it into a df"
   ]
  },
  {
   "cell_type": "code",
   "execution_count": 301,
   "metadata": {},
   "outputs": [
    {
     "data": {
      "text/html": [
       "<div>\n",
       "<style scoped>\n",
       "    .dataframe tbody tr th:only-of-type {\n",
       "        vertical-align: middle;\n",
       "    }\n",
       "\n",
       "    .dataframe tbody tr th {\n",
       "        vertical-align: top;\n",
       "    }\n",
       "\n",
       "    .dataframe thead th {\n",
       "        text-align: right;\n",
       "    }\n",
       "</style>\n",
       "<table border=\"1\" class=\"dataframe\">\n",
       "  <thead>\n",
       "    <tr style=\"text-align: right;\">\n",
       "      <th></th>\n",
       "      <th>Jan 2020</th>\n",
       "      <th>Feb 2020</th>\n",
       "      <th>Mar 2020</th>\n",
       "      <th>Apr 2020</th>\n",
       "      <th>May 2020</th>\n",
       "      <th>June 2020</th>\n",
       "    </tr>\n",
       "  </thead>\n",
       "  <tbody>\n",
       "    <tr>\n",
       "      <th>Total Nonfarm</th>\n",
       "      <td>123.4</td>\n",
       "      <td>127.4</td>\n",
       "      <td>127.0</td>\n",
       "      <td>117.4</td>\n",
       "      <td>118.6</td>\n",
       "      <td>117.6</td>\n",
       "    </tr>\n",
       "    <tr>\n",
       "      <th>Mining, Logging, and Construction</th>\n",
       "      <td>7.7</td>\n",
       "      <td>7.7</td>\n",
       "      <td>7.7</td>\n",
       "      <td>7.9</td>\n",
       "      <td>8.3</td>\n",
       "      <td>8.0</td>\n",
       "    </tr>\n",
       "    <tr>\n",
       "      <th>Manufacturing</th>\n",
       "      <td>6.3</td>\n",
       "      <td>6.3</td>\n",
       "      <td>6.3</td>\n",
       "      <td>5.9</td>\n",
       "      <td>6.2</td>\n",
       "      <td>6.3</td>\n",
       "    </tr>\n",
       "    <tr>\n",
       "      <th>Trade, Transportation, and Utilities</th>\n",
       "      <td>17.0</td>\n",
       "      <td>17.2</td>\n",
       "      <td>16.9</td>\n",
       "      <td>16.1</td>\n",
       "      <td>16.0</td>\n",
       "      <td>16.4</td>\n",
       "    </tr>\n",
       "    <tr>\n",
       "      <th>Information</th>\n",
       "      <td>1.4</td>\n",
       "      <td>1.4</td>\n",
       "      <td>1.4</td>\n",
       "      <td>1.3</td>\n",
       "      <td>1.3</td>\n",
       "      <td>1.4</td>\n",
       "    </tr>\n",
       "    <tr>\n",
       "      <th>Financial Activities</th>\n",
       "      <td>3.9</td>\n",
       "      <td>3.9</td>\n",
       "      <td>3.9</td>\n",
       "      <td>3.8</td>\n",
       "      <td>4.1</td>\n",
       "      <td>4.1</td>\n",
       "    </tr>\n",
       "    <tr>\n",
       "      <th>Professional and Business Services</th>\n",
       "      <td>9.9</td>\n",
       "      <td>10.1</td>\n",
       "      <td>10.1</td>\n",
       "      <td>9.1</td>\n",
       "      <td>9.2</td>\n",
       "      <td>9.6</td>\n",
       "    </tr>\n",
       "    <tr>\n",
       "      <th>Education and Health Services</th>\n",
       "      <td>12.7</td>\n",
       "      <td>13.0</td>\n",
       "      <td>13.2</td>\n",
       "      <td>11.8</td>\n",
       "      <td>12.2</td>\n",
       "      <td>12.6</td>\n",
       "    </tr>\n",
       "    <tr>\n",
       "      <th>Leisure and Hospitality</th>\n",
       "      <td>17.3</td>\n",
       "      <td>18.1</td>\n",
       "      <td>17.1</td>\n",
       "      <td>14.5</td>\n",
       "      <td>15.1</td>\n",
       "      <td>15.4</td>\n",
       "    </tr>\n",
       "    <tr>\n",
       "      <th>Other Services</th>\n",
       "      <td>3.4</td>\n",
       "      <td>3.4</td>\n",
       "      <td>3.3</td>\n",
       "      <td>2.7</td>\n",
       "      <td>2.9</td>\n",
       "      <td>3.1</td>\n",
       "    </tr>\n",
       "    <tr>\n",
       "      <th>Government</th>\n",
       "      <td>43.8</td>\n",
       "      <td>46.3</td>\n",
       "      <td>47.1</td>\n",
       "      <td>44.3</td>\n",
       "      <td>43.3</td>\n",
       "      <td>40.7</td>\n",
       "    </tr>\n",
       "  </tbody>\n",
       "</table>\n",
       "</div>"
      ],
      "text/plain": [
       "                                     Jan 2020 Feb 2020 Mar 2020 Apr 2020  \\\n",
       "Total Nonfarm                           123.4    127.4    127.0    117.4   \n",
       "Mining, Logging, and Construction         7.7      7.7      7.7      7.9   \n",
       "Manufacturing                             6.3      6.3      6.3      5.9   \n",
       "Trade, Transportation, and Utilities     17.0     17.2     16.9     16.1   \n",
       "Information                               1.4      1.4      1.4      1.3   \n",
       "Financial Activities                      3.9      3.9      3.9      3.8   \n",
       "Professional and Business Services        9.9     10.1     10.1      9.1   \n",
       "Education and Health Services            12.7     13.0     13.2     11.8   \n",
       "Leisure and Hospitality                  17.3     18.1     17.1     14.5   \n",
       "Other Services                            3.4      3.4      3.3      2.7   \n",
       "Government                               43.8     46.3     47.1     44.3   \n",
       "\n",
       "                                     May 2020 June 2020  \n",
       "Total Nonfarm                           118.6     117.6  \n",
       "Mining, Logging, and Construction         8.3       8.0  \n",
       "Manufacturing                             6.2       6.3  \n",
       "Trade, Transportation, and Utilities     16.0      16.4  \n",
       "Information                               1.3       1.4  \n",
       "Financial Activities                      4.1       4.1  \n",
       "Professional and Business Services        9.2       9.6  \n",
       "Education and Health Services            12.2      12.6  \n",
       "Leisure and Hospitality                  15.1      15.4  \n",
       "Other Services                            2.9       3.1  \n",
       "Government                               43.3      40.7  "
      ]
     },
     "execution_count": 301,
     "metadata": {},
     "output_type": "execute_result"
    }
   ],
   "source": [
    "import pandas as pd\n",
    "pd.DataFrame.from_dict(row_dict, orient='index',columns = titles_text) #final data frame can now do some analysis\n"
   ]
  }
 ],
 "metadata": {
  "kernelspec": {
   "display_name": "Python 3",
   "language": "python",
   "name": "python3"
  },
  "language_info": {
   "codemirror_mode": {
    "name": "ipython",
    "version": 3
   },
   "file_extension": ".py",
   "mimetype": "text/x-python",
   "name": "python",
   "nbconvert_exporter": "python",
   "pygments_lexer": "ipython3",
   "version": "3.7.1"
  }
 },
 "nbformat": 4,
 "nbformat_minor": 2
}
